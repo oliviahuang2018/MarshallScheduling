{
 "cells": [
  {
   "cell_type": "markdown",
   "metadata": {},
   "source": [
    "# 570 Interim Deliverable 2 "
   ]
  },
  {
   "cell_type": "markdown",
   "metadata": {},
   "source": [
    "## MIP formulation"
   ]
  },
  {
   "cell_type": "markdown",
   "metadata": {},
   "source": [
    "#### Input data:  \n",
    "$$\\begin{aligned}\n",
    "\\text{Section information:}\n",
    "&& I & = \\text{{all course sections}} \\\\\n",
    "&& student & = \\text{{predicted number of students who will register for each section}} \\\\\n",
    "&& PS & = \\text{{number of sessions for each section}}  \\\\\n",
    "&& TS & = \\text{{the timelength of each session in hours (e.g., 1.5, 2, 3)}}  \\\\\n",
    "&& I_2 & = \\text{{sections with 2 sessions a week (i.e., MW and TH)}} \\\\\n",
    "\\\\\n",
    "\\text{Classroom information:}\n",
    "&& J & = \\text{{classrooms}} \\\\\n",
    "&& seat & = \\text{{number of seats in each classroom}}  \\\\\n",
    "\\\\\n",
    "\\text{Day-time information:}\n",
    "&& P & = \\text{{day of week (i.e., M T W H F)}}  \\\\\n",
    "&& T & = \\text{{start time of a section}} \\\\\n",
    "\\end{aligned}$$"
   ]
  },
  {
   "cell_type": "markdown",
   "metadata": {},
   "source": [
    "#### Decision variable:\n",
    "Let the binary decision variable $X_{ijpt}$ denotes whether we assign course section $i$ to classroom $j$ at day $p$ starting at time $t$."
   ]
  },
  {
   "cell_type": "markdown",
   "metadata": {},
   "source": [
    "#### Objective and constraints:\n",
    "Our goal is to maximize the capacity utilization rate. The linear program is thus:\n",
    "$$\\begin{aligned}\n",
    "\\text{maximize} && \\sum_{i\\in I}\\sum_{j\\in J}\\sum_{p\\in P}\\sum_{t\\in T}{X_{ijpt}\\frac{student_i}{seat_j}} \\\\\n",
    "\\text{subject to:} \\\\\n",
    "\\\n",
    "\\text{No start time conflict for classes:} && X_{ijpt} + X_{(I-i)jpt} & \\le 1 && \\forall i \\in I, j \\in J, p \\in P, t \\in T\\\\\n",
    "\\\\\n",
    "\\text{No class conflict when a class is in session:} && X_{ijpt} + X_{i'jp(t+c)}& \\le 1 && \\forall i,i' \\in I; j \\in J; p \\in P; t \\in T; c \\in \\{1,2,...,TS_i*2-1\\}\\\\\n",
    "\\\\\n",
    "\\text{All required sessions must be scheduled:} && \\sum_{j\\in J}\\sum_{p\\in P}\\sum_{t\\in T}{X_{ijpt}} & = PS_i && \\forall i \\in I\\\\\n",
    "\\\\\n",
    "\\text{Number of students must not exceed total seats:} && X_{ijpt} * student_i & \\le seat_j && \\forall i \\in I, j \\in J, p \\in P, t \\in T \\\\\n",
    "\\\\\n",
    "\\text{No class scheduled  to last beyond school time (i.e., 9.30PM):} && X_{ijpt'} & = 0 && \\forall i \\in I, j \\in J, p \\in P, t' \\in \\{T_{max}-(TS_i*2)+2,...,T_{max}\\} \\\\\n",
    "\\\\\n",
    "\\text{Binding clause for courses with 2 sessions (MW):} && X_{ij'M't} & = X_{ij'W't} && \\forall i \\in I_2, j \\in J, t \\in T\\\\\n",
    "\\text{Binding clause for courses with 2 sessions (TH):} && X_{ij'T't} & = X_{ij'H't} && \\forall i \\in I_2, j \\in J, t \\in T\\\\\n",
    "\\\\\n",
    "\\text{No Friday class for courses with 2 sessions:} && X_{ij'F't} & = 0 && \\forall i \\in I_2, j \\in J, t \\in T \\\\\n",
    "\\end{aligned}$$"
   ]
  },
  {
   "cell_type": "code",
   "execution_count": null,
   "metadata": {
    "collapsed": true
   },
   "outputs": [],
   "source": []
  },
  {
   "cell_type": "markdown",
   "metadata": {},
   "source": [
    "# Python Code"
   ]
  },
  {
   "cell_type": "code",
   "execution_count": 62,
   "metadata": {
    "collapsed": true
   },
   "outputs": [],
   "source": [
    "import gurobipy as grb\n",
    "import pandas as pd\n",
    "import numpy as np\n",
    "import datetime\n",
    "from datetime import time\n",
    "from datetime import timedelta\n",
    "import math\n",
    "\n",
    "# for the room capacity file i remove the first record because it is same as the 7th record and will make some error in next step\n",
    "capacity=pd.read_excel(\"Marshall_Room_Capacity_Chart.xlsx\")\n",
    "course_enrollment=pd.read_excel(\"Marshall_Course_Enrollment_1516_1617.xlsx\") # for student prediction\n",
    "#course=pd.read_excel(\"Marshall_Course_Enrollment_1516_1617_small.xlsx\")\n",
    "#section_info=pd.read_excel(\"section information.xlsx\")"
   ]
  },
  {
   "cell_type": "markdown",
   "metadata": {},
   "source": [
    "## Extra data from original dataset"
   ]
  },
  {
   "cell_type": "code",
   "execution_count": 63,
   "metadata": {
    "collapsed": true
   },
   "outputs": [],
   "source": [
    "# choose 20153 term as sample\n",
    "data=course_enrollment.loc[course_enrollment.loc[:,\"Term\"]==20153,(\"Course\",\"Section\",\"First Days\",\"First Begin Time\",\"First End Time\",\"First Room\",\"First Instructor\")]\n",
    "data.columns=[\"Course\",\"Section\",\"FirstDays\",\"FirstBeginTime\",\"FirstEndTime\",\"FirstRoom\",\"FirstInstructor\"]\n",
    "# we only use those M/T/W/H/F/MW/TH\n",
    "data=data[(data.FirstDays==\"M\")|(data.FirstDays==\"T\")|(data.FirstDays==\"W\")|(data.FirstDays==\"H\")|(data.FirstDays==\"F\")|(data.FirstDays==\"MW\")|(data.FirstDays==\"TH\")]\n",
    "data=data[(data.FirstRoom!=\"ONLINE\")&(data.FirstRoom!=\"DEN@Viterbi\")]\n",
    "# remove the record that have nan in first begintime\n",
    "data=data[(data.FirstBeginTime==data.FirstBeginTime)|(data.FirstEndTime==data.FirstEndTime)]\n",
    "# remove the record that have nan in professor\n",
    "data=data[data.FirstInstructor==data.FirstInstructor]\n",
    "data=data.loc[:,(\"Course\",\"Section\",\"FirstDays\",\"FirstBeginTime\",\"FirstEndTime\",\"FirstInstructor\")]"
   ]
  },
  {
   "cell_type": "code",
   "execution_count": 64,
   "metadata": {
    "collapsed": true
   },
   "outputs": [],
   "source": [
    "# timelength\n",
    "timelength=[]\n",
    "for i in data.index:\n",
    "    #print i\n",
    "    #print data.loc[i,:]\n",
    "    #print data.loc[i,:]\n",
    "    time1=data.loc[i,\"FirstEndTime\"]\n",
    "    #print type(time1)\n",
    "    time2=data.loc[i,\"FirstBeginTime\"]\n",
    "    minutediff=((time1.hour*60+time1.minute)-(time2.hour*60+time2.minute)+10)\n",
    "    halfhour=minutediff/30\n",
    "    if minutediff%30>0:\n",
    "        halfhour+=1\n",
    "    timelength.append(halfhour)"
   ]
  },
  {
   "cell_type": "code",
   "execution_count": 65,
   "metadata": {
    "collapsed": true
   },
   "outputs": [],
   "source": [
    "# pattern\n",
    "pattern=[]\n",
    "for i in data.index:\n",
    "    day=data.loc[i,\"FirstDays\"]\n",
    "    if (day==\"M\") or (day==\"T\") or (day==\"W\") or (day==\"H\") or (day==\"F\"):\n",
    "        #print day\n",
    "        pattern.append(1)\n",
    "    elif (day==\"MW\") or (day==\"TH\"):\n",
    "        #print day\n",
    "        pattern.append(2)"
   ]
  },
  {
   "cell_type": "markdown",
   "metadata": {},
   "source": [
    "Use the \"section_info=section_info[section_info.timelength<=2]\" below to control the size of dataset (change value of 2), i only tried small one"
   ]
  },
  {
   "cell_type": "code",
   "execution_count": 66,
   "metadata": {},
   "outputs": [
    {
     "name": "stdout",
     "output_type": "stream",
     "text": [
      "3\n",
      "135\n"
     ]
    }
   ],
   "source": [
    "# build section_info table\n",
    "section_info=pd.DataFrame({\"course\":data[\"Course\"],\"section\":data[\"Section\"],\"pattern\":pattern,\"timelength\":timelength,\"FirstInstructor\":data[\"FirstInstructor\"]})\n",
    "# we only use those timelength less than 1.5 hours\n",
    "section_info=section_info[section_info.timelength<=3]\n",
    "# build table of professor and sections\n",
    "Prof=section_info[\"FirstInstructor\"].unique()\n",
    "professor={}\n",
    "for i in Prof:\n",
    "    professor[i]=section_info.loc[section_info.loc[:,\"FirstInstructor\"]==i,\"section\"]\n",
    "print max(section_info[\"timelength\"])\n",
    "print len(section_info)\n",
    "#print section_info.index\n",
    "# for change the index, do not delete \n",
    "section_info.index=range(len(section_info))\n",
    "# get how many sessions we have in this sechedule\n",
    "numofsections=sum(section_info[\"pattern\"])"
   ]
  },
  {
   "cell_type": "code",
   "execution_count": 67,
   "metadata": {},
   "outputs": [
    {
     "name": "stdout",
     "output_type": "stream",
     "text": [
      "28\n"
     ]
    }
   ],
   "source": [
    "# select a subset of section id \n",
    "section_info=section_info.loc[range(15),:]\n",
    "Prof=section_info[\"FirstInstructor\"].unique()\n",
    "professor={}\n",
    "for i in Prof:\n",
    "    professor[i]=section_info.loc[section_info.loc[:,\"FirstInstructor\"]==i,\"section\"]\n",
    "numofsections=sum(section_info[\"pattern\"])\n",
    "print numofsections\n"
   ]
  },
  {
   "cell_type": "markdown",
   "metadata": {},
   "source": [
    "## Build variables"
   ]
  },
  {
   "cell_type": "code",
   "execution_count": 68,
   "metadata": {
    "collapsed": true
   },
   "outputs": [],
   "source": [
    "# What we need to extract from data\n",
    "# prediction about student registeration for every section\n",
    "# how many section we need to schedule\n",
    "# the pattern, time length of each section\n",
    "# classroom capacity\n",
    "\n",
    "# Variables\n",
    "# course name\n",
    "C={}\n",
    "index=0\n",
    "for i in section_info[\"section\"]:\n",
    "    C[i]=section_info.loc[section_info.loc[:,\"section\"]==i,\"course\"].get(index)\n",
    "    index+=1\n",
    "# section of course\n",
    "I=section_info[\"section\"]\n",
    "# classroom\n",
    "J=capacity[\"Room\"]\n",
    "# pattern of session (less than catagories in origional dataset)\n",
    "P=[\"Monday\",\"Tuesday\",\"Wednesday\",\"Thursday\",\"Friday\"]\n",
    "P=pd.Series(i for i in P)\n",
    "# start time of session (from 8:00am to 9:00pm,so the real classtime is between 8:00am to 10:00pm)\n",
    "T1={}\n",
    "time = datetime.timedelta(hours=8,minutes=0, seconds=0)\n",
    "for i in range(27):\n",
    "    T1[str(time+timedelta(hours=0.5*i))]=i\n",
    "T=pd.Series(i for i in range(27))\n",
    "\n",
    "# students' registeration prediction\n",
    "student={}\n",
    "for i in I:\n",
    "    sum1=sum(course_enrollment.loc[course_enrollment.loc[:,\"Section\"]==i,\"Reg Count\"])\n",
    "    len1=len(course_enrollment.loc[course_enrollment.loc[:,\"Section\"]==i,\"Reg Count\"])\n",
    "    student[i]=round(sum1/len1)\n",
    "#student=pd.Series(i for i in student)\n",
    "\n",
    "# seat\n",
    "seat={}\n",
    "for index,row in capacity.iterrows():\n",
    "    seat[row[\"Room\"]]=row[\"Size\"]\n",
    "#seat=pd.Series(i for i in seat)\n",
    "    \n",
    "# pattern of each section\n",
    "PS={}\n",
    "index=0\n",
    "for i in I:\n",
    "    PS[i]=section_info.loc[section_info.loc[:,\"section\"]==i,\"pattern\"].get(index)\n",
    "    index+=1\n",
    "#PS=pd.Series(i for i in PS)\n",
    "    \n",
    "# timelength of each section\n",
    "TS={}\n",
    "index=0\n",
    "for i in I:\n",
    "    TS[i]=section_info.loc[section_info.loc[:,\"section\"]==i,\"timelength\"].get(index)\n",
    "    index+=1\n",
    "#TS=pd.Series(i for i in TS)"
   ]
  },
  {
   "cell_type": "code",
   "execution_count": 42,
   "metadata": {
    "collapsed": true
   },
   "outputs": [],
   "source": []
  },
  {
   "cell_type": "markdown",
   "metadata": {},
   "source": [
    "## Model and Object"
   ]
  },
  {
   "cell_type": "code",
   "execution_count": 69,
   "metadata": {
    "collapsed": true
   },
   "outputs": [],
   "source": [
    "# Building model\n",
    "mod=grb.Model()\n",
    "\n",
    "# Decision Variable\n",
    "X={}\n",
    "for i in I: # section id\n",
    "    for j in J: # classroom\n",
    "        for p in P: # day of week\n",
    "             for t in T: # start timeslot of sesstion\n",
    "                    X[i,j,p,t]=mod.addVar(vtype=grb.GRB.BINARY, name='x[{0},{1},{2},{3}]'.format(i,j,p,t))\n"
   ]
  },
  {
   "cell_type": "markdown",
   "metadata": {},
   "source": [
    "## Constraints of Classroom Utilization"
   ]
  },
  {
   "cell_type": "code",
   "execution_count": 70,
   "metadata": {
    "collapsed": true
   },
   "outputs": [],
   "source": [
    "# constraints\n",
    "I_twoday=pd.Series()\n",
    "I_oneday=pd.Series()\n",
    "for i in I:\n",
    "    if PS.get(i)==1:\n",
    "        I_oneday=I_oneday.append(pd.Series(i))\n",
    "    else:\n",
    "        I_twoday=I_twoday.append(pd.Series(i))"
   ]
  },
  {
   "cell_type": "code",
   "execution_count": 71,
   "metadata": {
    "collapsed": true
   },
   "outputs": [],
   "source": [
    "# constraint1\n",
    "# in each time slot in each day every professor can only teach one session at the same time\n",
    "constraint1={}\n",
    "for t in T:\n",
    "    for p in P:\n",
    "        for prof in Prof:\n",
    "            constraint1[t,p,prof]=mod.addConstr(sum(X[i,j,p,t] for i in professor[prof].values for j in J)<=1)"
   ]
  },
  {
   "cell_type": "code",
   "execution_count": 72,
   "metadata": {
    "collapsed": true
   },
   "outputs": [],
   "source": [
    "# new constraint2\n",
    "# every timeslot in every classroom in a specific day, there will be only one or zero class\n",
    "constraint2={}\n",
    "for j in J:\n",
    "    for t in T:\n",
    "        for p in P:\n",
    "            constraint2[j,t,p]=mod.addConstr(sum(X[i,j,p,t] for i in I)<=1)\n",
    "            \n",
    "# in the next (number of required sessions)*2 timeslot all of X should be 0\n",
    "I2=I\n",
    "for i1 in I:\n",
    "    I2=I2.drop(pd.Index(I).get_loc(i1))\n",
    "    for j in J:\n",
    "        for t in T:\n",
    "            for p in P:\n",
    "                timeslots=int(TS[i1])\n",
    "                if t<=(27-timeslots): # avoid a situation that three hours course is assigned to 8:00 pm\n",
    "                    #print i1,j,p,t\n",
    "                    constraint2[i1,j,t,p]=mod.addConstr((X[i1,j,p,t]+sum(X[i2,j,p,t+num] for i2 in I2 for num in range(0,timeslots)))<=1,name=\"\")"
   ]
  },
  {
   "cell_type": "code",
   "execution_count": 73,
   "metadata": {},
   "outputs": [
    {
     "name": "stdout",
     "output_type": "stream",
     "text": [
      "88440\n"
     ]
    }
   ],
   "source": [
    "print len(constraint2)"
   ]
  },
  {
   "cell_type": "code",
   "execution_count": 74,
   "metadata": {
    "collapsed": true
   },
   "outputs": [],
   "source": [
    "# this constraint3 is only for those sections whose pattern is 2, which means they have two session every week.\n",
    "constraint3={}\n",
    "for i in I_twoday:\n",
    "    for j in J:\n",
    "        for t in T:\n",
    "            constraint3[i,j,\"M\",t]=mod.addConstr(X[i,j,\"Wednesday\",t]== X[i,j,\"Monday\",t],name=\"\") \n",
    "            # the section with two sessions must have same 0/1 in M and W\n",
    "            \n",
    "            constraint3[i,j,\"T\",t]=mod.addConstr(X[i,j,\"Thursday\",t] == X[i,j,\"Tuesday\",t],name=\"\") \n",
    "            # the section with two sessions must have same 0/1 in M and W"
   ]
  },
  {
   "cell_type": "code",
   "execution_count": 75,
   "metadata": {
    "collapsed": true
   },
   "outputs": [],
   "source": [
    "# this constraint4 is to control that when we maximum the utilization rate,the number of student registered \n",
    "#for one section should less than the classroom capacity\n",
    "constraint4={}\n",
    "for i in I:\n",
    "    for j in J:\n",
    "        for p in P:\n",
    "             for t in T:\n",
    "                    constraint4[i,j,p,t]=mod.addConstr(X[i,j,p,t]*student[i]<=seat[j],name=\"\")"
   ]
  },
  {
   "cell_type": "code",
   "execution_count": 76,
   "metadata": {
    "collapsed": true
   },
   "outputs": [],
   "source": [
    "# this constraint5 is to make sure that in all time in all classroom in all day, \n",
    "#for each section, sum(X)=required sessions\n",
    "constraint5={}\n",
    "for i in I:\n",
    "    constraint5[i]=mod.addConstr(sum(X[i,j,p,t] for j in J for p in P for t in T)==PS.get(i),name=\"\")    "
   ]
  },
  {
   "cell_type": "code",
   "execution_count": 77,
   "metadata": {
    "collapsed": true
   },
   "outputs": [],
   "source": [
    "#constraint6: No Friday class for MW and TH section\n",
    "constraint6={}\n",
    "for i in I_twoday:\n",
    "    constraint6[i] = mod.addConstr(sum(X[i,j,\"Friday\",t] for j in J for t in T) == 0) "
   ]
  },
  {
   "cell_type": "code",
   "execution_count": 78,
   "metadata": {
    "collapsed": true
   },
   "outputs": [],
   "source": [
    "#constraint7:no class can last longer than the '9PM-9.30PM' block\n",
    "constraint7={}\n",
    "for i in I:\n",
    "    constraint7[i] = mod.addConstr(sum(X[i,j,p,T.max()-ts] for j in J for p in P for ts in range(int(TS[i]))) == 0)"
   ]
  },
  {
   "cell_type": "code",
   "execution_count": 79,
   "metadata": {
    "collapsed": true
   },
   "outputs": [],
   "source": [
    "# constraint8 for each professor, make them teach in same building for all their sections\n",
    "constraint8={}\n",
    "# add one more binary variable Yb,f which means whether professor f teach in building b\n",
    "building=[\"ACC\",\"BRI\",\"HOH\",\"JFF\",\"JKP\"] #area1 (ACC&BRI&HOH) # area2 (JFF&JKP)\n",
    "for b in building:\n",
    "    for f in Prof:\n",
    "        Y[b,f]=mod.addVar(vtype=grb.GRB.BINARY, name='x[{0},{1}]'.format(b,f))\n",
    "for f in Prof:\n",
    "    constraint8[f]=mod.addConstr(sum(Y[b,f] for b in building)<=1)\n",
    "\n",
    "professor1={}\n",
    "for i in professor:\n",
    "    lis=professor.get(i)\n",
    "    for j in lis:\n",
    "        professor1[j]=i\n",
    "\n",
    "for i in I:\n",
    "    f=professor1.get(i)\n",
    "    #print f\n",
    "    for j in J:\n",
    "        b=j[0:3]\n",
    "        #print b\n",
    "        for p in P:\n",
    "            for t in T:\n",
    "                constraint8[b,f]=mod.addConstr(X[i,j,p,t]<=Y[b,f])# if X[i,j,p,t]>0\n",
    "        \n",
    "      "
   ]
  },
  {
   "cell_type": "code",
   "execution_count": 81,
   "metadata": {
    "collapsed": true
   },
   "outputs": [],
   "source": [
    "# constraint9 is to minimum the day that professor show in campus\n",
    "# add one more numeric variable Zp,f means that professor f have to show up in campus in p day of week\n",
    "constraint9={}\n",
    "D={}\n",
    "for f in Prof:\n",
    "    for p in P:\n",
    "        D[p,f]=mod.addVar(vtype=grb.GRB.BINARY,name='x[{0}]'.format(p))\n",
    "\n",
    "for f in Prof:\n",
    "    for p in P:\n",
    "        for i in professor.get(f):\n",
    "            mod.addConstr(sum(X[i,j,p,t] for j in J for t in T)<=D[p,f])\n",
    "\n",
    "    "
   ]
  },
  {
   "cell_type": "code",
   "execution_count": 82,
   "metadata": {},
   "outputs": [
    {
     "name": "stdout",
     "output_type": "stream",
     "text": [
      "number of constrints 209599\n"
     ]
    }
   ],
   "source": [
    "print \"number of constrints \"+str(len(constraint9)+len(constraint8)+len(constraint7)+len(constraint6)+len(constraint5)+len(constraint4)+len(constraint3)+len(constraint2)+len(constraint1))"
   ]
  },
  {
   "cell_type": "markdown",
   "metadata": {},
   "source": [
    "## Classroom Distance for back-to-back sessions do not need this anymore"
   ]
  },
  {
   "cell_type": "code",
   "execution_count": 83,
   "metadata": {
    "collapsed": true
   },
   "outputs": [],
   "source": [
    "# build the score table that indicate the distance between classroom\n",
    "# same room 0\n",
    "# same floor 1\n",
    "# same building 2\n",
    "# different building in same area 3\n",
    "# different area 4\n",
    "# area1 (ACC&BRI&HOH) \n",
    "# area2 (JFF&JKP)\n",
    "classroom=capacity[\"Room\"].tolist()\n",
    "classroom.insert(0,\"classroom\")\n",
    "distance=pd.DataFrame(columns=classroom)\n",
    "distance[\"classroom\"]=capacity[\"Room\"].tolist()\n",
    "distance=distance.set_index(\"classroom\")\n",
    "classroom=capacity[\"Room\"].tolist()\n",
    "area1=[\"ACC\",\"BRI\",\"HOH\"]\n",
    "area2=[\"JFF\",\"JKP\"]\n",
    "for i in classroom:#row\n",
    "    for j in classroom:#column\n",
    "        if i==j: # same room 0\n",
    "            #print \"same room\"\n",
    "            distance.loc[i,j]=0\n",
    "        elif i[0:4]==j[0:4]: # same floor 1\n",
    "            distance.loc[i,j]=1\n",
    "        elif i[0:3]==j[0:3]: # same building 2\n",
    "            distance.loc[i,j]=2\n",
    "        elif ((i[0:3] in area1)&(j[0:3] in area1)) | ((i[0:3] in area2)&(j[0:3] in area2)): # different building but same area (ACC&BRI&HOH) OR (JFF&JKP) 3\n",
    "            distance.loc[i,j]=3\n",
    "        else: # different area 4\n",
    "            distance.loc[i,j]=4"
   ]
  },
  {
   "cell_type": "code",
   "execution_count": 84,
   "metadata": {
    "collapsed": true
   },
   "outputs": [],
   "source": [
    "# Objective\n",
    "# As i set the constraint1 below, so the section with 2 or 3 sessions will have higher weight here\n",
    "# but if i do not set constraint1, we cannot promise other sections will not take the vacancy\n",
    "# for example, if DSO570 assigned to M/W 12:00, namely X[DSO570,j,\"MW\",12:00]=1, but X[i,j,\"M\",12:00]=0 and X[i,j,\"W\",12:00]=0, \n",
    "# so other courses maight be assign to this time too\n",
    "mod.setObjective((sum(X[i,j,p,t]*student[i]/seat[j] for i in I for j in J for p in P for t in T)/numofsections-sum(D[p,f] for f in Prof for p in P)/len(Prof)),sense=grb.GRB.MAXIMIZE)\n",
    "\n",
    "\n"
   ]
  },
  {
   "cell_type": "markdown",
   "metadata": {},
   "source": [
    "## Best solution output"
   ]
  },
  {
   "cell_type": "code",
   "execution_count": 85,
   "metadata": {
    "scrolled": true
   },
   "outputs": [
    {
     "name": "stdout",
     "output_type": "stream",
     "text": [
      "Optimize a model with 298734 rows, 89181 columns and 2525935 nonzeros\n",
      "Variable types: 0 continuous, 89181 integer (89181 binary)\n",
      "Coefficient statistics:\n",
      "  Matrix range     [1e+00, 4e+01]\n",
      "  Objective range  [9e-04, 1e-01]\n",
      "  Bounds range     [1e+00, 1e+00]\n",
      "  RHS range        [1e+00, 3e+02]\n",
      "Presolve removed 265635 rows and 55278 columns (presolve time = 5s) ...\n",
      "Presolve removed 265635 rows and 55278 columns\n",
      "Presolve time: 6.17s\n",
      "Presolved: 33099 rows, 33903 columns, 363618 nonzeros\n",
      "Variable types: 0 continuous, 33903 integer (33903 binary)\n",
      "Found heuristic solution: objective -2.3574023\n",
      "Found heuristic solution: objective -1.7841117\n",
      "\n",
      "Deterministic concurrent LP optimizer: primal and dual simplex\n",
      "Showing first log only...\n",
      "\n",
      "Presolve removed 4 rows and 4 columns\n",
      "Presolved: 33095 rows, 33899 columns, 363610 nonzeros\n",
      "\n",
      "Presolve removed 20 rows and 27 columns\n",
      "\n",
      "Root simplex log...\n",
      "\n",
      "Iteration    Objective       Primal Inf.    Dual Inf.      Time\n",
      "       0    8.2458657e-01   1.700000e+01   3.400000e+07      8s\n",
      "    3949   -1.0504134e+00   0.000000e+00   0.000000e+00      8s\n",
      "    3949   -1.0504134e+00   0.000000e+00   0.000000e+00      9s\n",
      "Concurrent spin time: 0.39s\n",
      "\n",
      "Solved with primal simplex\n",
      "\n",
      "Root relaxation: objective -1.050413e+00, 3949 iterations, 1.57 seconds\n",
      "\n",
      "    Nodes    |    Current Node    |     Objective Bounds      |     Work\n",
      " Expl Unexpl |  Obj  Depth IntInf | Incumbent    BestBd   Gap | It/Node Time\n",
      "\n",
      "     0     0   -1.05041    0   86   -1.78411   -1.05041  41.1%     -    9s\n",
      "H    0     0                      -1.2075773   -1.05041  13.0%     -   12s\n",
      "H    0     0                      -1.0681064   -1.05041  1.66%     -   12s\n",
      "H    0     0                      -1.0591669   -1.05041  0.83%     -   13s\n",
      "     0     0   -1.05420    0  414   -1.05917   -1.05420  0.47%     -   14s\n",
      "     0     0   -1.05792    0    6   -1.05917   -1.05792  0.12%     -   16s\n",
      "\n",
      "Explored 1 nodes (7990 simplex iterations) in 16.93 seconds\n",
      "Thread count was 4 (of 4 available processors)\n",
      "\n",
      "Solution count 5: -1.05917 -1.06811 -1.20758 ... -2.3574\n",
      "\n",
      "Optimal solution found (tolerance 1.00e-04)\n",
      "Best objective -1.059166936005e+00, best bound -1.059166936005e+00, gap 0.0000%\n",
      "('Optimal solution:', -1.0591669360051712)\n"
     ]
    }
   ],
   "source": [
    "mod.optimize()\n",
    "mod.setParam('OutputFlag',False)\n",
    "\n",
    "print('Optimal solution:',mod.ObjVal)"
   ]
  },
  {
   "cell_type": "code",
   "execution_count": null,
   "metadata": {
    "collapsed": true
   },
   "outputs": [],
   "source": [
    "# print to check result\n",
    "#for i in I:\n",
    " #   for j in J:\n",
    "  #      for p in P:\n",
    "   #         for t in T:\n",
    "    #            if X[i,j,p,t].x>0:\n",
    "     #               print(\"i \",i,\" j \",j,\" p \",p,\" t \",t,\" X[i,j,p,t] \",X[i,j,p,t].x,\" student[i] \",student[i],\" seat[j] \",seat[j],\" X[i,j,p,t]*student[i]/seat[j] \",X[i,j,p,t].x*student[i]/seat[j])"
   ]
  },
  {
   "cell_type": "code",
   "execution_count": 86,
   "metadata": {
    "collapsed": true
   },
   "outputs": [],
   "source": [
    "# get the small subset of J that have classes in this classroom\n",
    "J1=[]\n",
    "for j in J:\n",
    "    if sum(X[i,j,p,t].x for i in I for p in P for t in T)>0:\n",
    "        J1.append(j)\n",
    "#print J1"
   ]
  },
  {
   "cell_type": "code",
   "execution_count": 87,
   "metadata": {
    "collapsed": true
   },
   "outputs": [],
   "source": [
    "# return a blank table\n",
    "def blanktable():\n",
    "    T1=[]\n",
    "    blank=[]\n",
    "    time = datetime.timedelta(hours=8,minutes=0, seconds=0)\n",
    "    for i in range(27):\n",
    "        T1.append(str(time+timedelta(hours=0.5*i)))\n",
    "        blank.append(\"\")\n",
    "    schedule=pd.DataFrame({\"# timeslot\": range(27),\n",
    "                           \"timeslot\":T1,\n",
    "                           \"Monday\":blank,\n",
    "                           \"Tuesday\":blank,\n",
    "                           \"Wednesday\":blank,\n",
    "                           \"Thursday\":blank,\n",
    "                           \"Friday\":blank})\n",
    "    sched_cols = ['# timeslot','timeslot','Monday','Tuesday','Wednesday','Thursday','Friday']\n",
    "    schedule = schedule[sched_cols]\n",
    "    schedule=schedule.set_index('# timeslot')\n",
    "    return schedule"
   ]
  },
  {
   "cell_type": "code",
   "execution_count": 88,
   "metadata": {
    "collapsed": true
   },
   "outputs": [],
   "source": [
    "# put the optimal solution into our beautiful schedule table\n",
    "timetable={}\n",
    "for j in J1:\n",
    "    #print \"J is \"+j\n",
    "    #print \"schedule\"+j\n",
    "    schedule1=blanktable()\n",
    "    for i in I:\n",
    "        for p in P:\n",
    "            for t in T:\n",
    "                if X[i,j,p,t].x>0:\n",
    "                    for a in range(int(TS[i])):\n",
    "                        schedule1.loc[t+a,p]=C[i]+\" / \"+str(i)\n",
    "                        #print schedule1\n",
    "    timetable[\"schedule\"+j]=schedule1\n",
    "    #print \"timetable \"+\"schedule\"+j\n",
    "    #print timetable[\"schedule\"+j]\n",
    "    "
   ]
  },
  {
   "cell_type": "code",
   "execution_count": 89,
   "metadata": {
    "collapsed": true
   },
   "outputs": [],
   "source": [
    "output=pd.ExcelWriter(\"schedule_24_sections.xlsx\")\n",
    "for j in J:\n",
    "    if sum(X[i,j,p,t].x for i in I for p in P for t in T)>0:\n",
    "        timetable[\"schedule\"+j].to_excel(output,sheet_name=j,index=False)\n",
    "output.save()"
   ]
  },
  {
   "cell_type": "code",
   "execution_count": 90,
   "metadata": {},
   "outputs": [
    {
     "name": "stdout",
     "output_type": "stream",
     "text": [
      "28\n"
     ]
    }
   ],
   "source": [
    "numerof1=0\n",
    "for j in J:\n",
    "    for i in I:\n",
    "        for p in P:\n",
    "            for t in T:\n",
    "                if X[i,j,p,t].x>0:\n",
    "                    ##print i\n",
    "                    numerof1+=1\n",
    "print numerof1"
   ]
  },
  {
   "cell_type": "code",
   "execution_count": 96,
   "metadata": {},
   "outputs": [
    {
     "name": "stdout",
     "output_type": "stream",
     "text": [
      "ACC Ryan, Tom 1.0\n",
      "ACC Kiddoo, Bob 1.0\n",
      "ACC Owens, John, D 1.0\n",
      "BRI Bonner, Sarah, Elizabeth 1.0\n",
      "BRI Lennox, Clive 1.0\n",
      "BRI Keller, Joe 1.0\n",
      "BRI Wang, Shiing-Wu 1.0\n",
      "BRI Erbstoesser, Eugene 1.0\n"
     ]
    }
   ],
   "source": [
    "# make sure that every professor is assigned to one building \n",
    "for b in building:\n",
    "    for f in Prof:\n",
    "        if Y[b,f].x>0:\n",
    "            print b+\" \"+f+\" \"+str(Y[b,f].x)"
   ]
  },
  {
   "cell_type": "code",
   "execution_count": 99,
   "metadata": {},
   "outputs": [
    {
     "name": "stdout",
     "output_type": "stream",
     "text": [
      "Ryan, Tom Monday 1.0\n",
      "Bonner, Sarah, Elizabeth Monday 1.0\n",
      "Bonner, Sarah, Elizabeth Wednesday 1.0\n",
      "Kiddoo, Bob Tuesday 1.0\n",
      "Kiddoo, Bob Thursday 1.0\n",
      "Lennox, Clive Monday 1.0\n",
      "Lennox, Clive Wednesday 1.0\n",
      "Owens, John, D Tuesday 1.0\n",
      "Owens, John, D Thursday 1.0\n",
      "Keller, Joe Monday 1.0\n",
      "Keller, Joe Wednesday 1.0\n",
      "Wang, Shiing-Wu Tuesday 1.0\n",
      "Wang, Shiing-Wu Thursday 1.0\n",
      "Erbstoesser, Eugene Monday 1.0\n",
      "Erbstoesser, Eugene Wednesday 1.0\n"
     ]
    }
   ],
   "source": [
    "# check that for one session professor they will be assigned \n",
    "for f in Prof:\n",
    "    for p in P:\n",
    "        if D[p,f].x>0:\n",
    "            print f+\" \"+p+\" \"+str(D[p,f].x)"
   ]
  },
  {
   "cell_type": "code",
   "execution_count": null,
   "metadata": {
    "collapsed": true
   },
   "outputs": [],
   "source": []
  }
 ],
 "metadata": {
  "kernelspec": {
   "display_name": "Python 3",
   "language": "python",
   "name": "python3"
  },
  "language_info": {
   "codemirror_mode": {
    "name": "ipython",
    "version": 3
   },
   "file_extension": ".py",
   "mimetype": "text/x-python",
   "name": "python",
   "nbconvert_exporter": "python",
   "pygments_lexer": "ipython3",
   "version": "3.6.3"
  }
 },
 "nbformat": 4,
 "nbformat_minor": 2
}
