{
 "cells": [
  {
   "cell_type": "code",
   "execution_count": 35,
   "metadata": {
    "collapsed": true
   },
   "outputs": [],
   "source": [
    "import pandas as pd\n",
    "import numpy as np\n",
    "import matplotlib.pyplot as plt"
   ]
  },
  {
   "cell_type": "code",
   "execution_count": 36,
   "metadata": {
    "collapsed": true
   },
   "outputs": [],
   "source": [
    "enrollment=pd.read_excel(\"Marshall_Course_Enrollment_1516_1617.xlsx\")"
   ]
  },
  {
   "cell_type": "code",
   "execution_count": 37,
   "metadata": {
    "scrolled": true
   },
   "outputs": [
    {
     "data": {
      "text/html": [
       "<div>\n",
       "<style>\n",
       "    .dataframe thead tr:only-child th {\n",
       "        text-align: right;\n",
       "    }\n",
       "\n",
       "    .dataframe thead th {\n",
       "        text-align: left;\n",
       "    }\n",
       "\n",
       "    .dataframe tbody tr th {\n",
       "        vertical-align: top;\n",
       "    }\n",
       "</style>\n",
       "<table border=\"1\" class=\"dataframe\">\n",
       "  <thead>\n",
       "    <tr style=\"text-align: right;\">\n",
       "      <th></th>\n",
       "      <th>Course</th>\n",
       "      <th>Course Prefix</th>\n",
       "      <th>Course Suffix</th>\n",
       "      <th>Department</th>\n",
       "      <th>First Begin Time</th>\n",
       "      <th>First Days</th>\n",
       "      <th>First End Time</th>\n",
       "      <th>First Instructor</th>\n",
       "      <th>First Instructor UID</th>\n",
       "      <th>First Room</th>\n",
       "      <th>...</th>\n",
       "      <th>Second Begin Time</th>\n",
       "      <th>Second Days</th>\n",
       "      <th>Second End Time</th>\n",
       "      <th>Second Instructor</th>\n",
       "      <th>Second Instructor UID</th>\n",
       "      <th>Second Room</th>\n",
       "      <th>Section</th>\n",
       "      <th>Session</th>\n",
       "      <th>Term</th>\n",
       "      <th>Title</th>\n",
       "    </tr>\n",
       "  </thead>\n",
       "  <tbody>\n",
       "    <tr>\n",
       "      <th>0</th>\n",
       "      <td>ACCT-370</td>\n",
       "      <td>ACCT</td>\n",
       "      <td>370</td>\n",
       "      <td>ACCT</td>\n",
       "      <td>10:00:00</td>\n",
       "      <td>F</td>\n",
       "      <td>11:50:00</td>\n",
       "      <td>Hopkins, Merle, W</td>\n",
       "      <td>3.783354e+09</td>\n",
       "      <td>SLH200</td>\n",
       "      <td>...</td>\n",
       "      <td>NaN</td>\n",
       "      <td>NaN</td>\n",
       "      <td>NaN</td>\n",
       "      <td>NaN</td>\n",
       "      <td>NaN</td>\n",
       "      <td>NaN</td>\n",
       "      <td>14029</td>\n",
       "      <td>1</td>\n",
       "      <td>20153</td>\n",
       "      <td>External Financial Reporting Issues</td>\n",
       "    </tr>\n",
       "    <tr>\n",
       "      <th>1</th>\n",
       "      <td>ACCT-370</td>\n",
       "      <td>ACCT</td>\n",
       "      <td>370</td>\n",
       "      <td>ACCT</td>\n",
       "      <td>08:00:00</td>\n",
       "      <td>MW</td>\n",
       "      <td>09:50:00</td>\n",
       "      <td>Hopkins, Merle, W</td>\n",
       "      <td>3.783354e+09</td>\n",
       "      <td>ACC303</td>\n",
       "      <td>...</td>\n",
       "      <td>NaN</td>\n",
       "      <td>NaN</td>\n",
       "      <td>NaN</td>\n",
       "      <td>NaN</td>\n",
       "      <td>NaN</td>\n",
       "      <td>NaN</td>\n",
       "      <td>14025</td>\n",
       "      <td>1</td>\n",
       "      <td>20153</td>\n",
       "      <td>External Financial Reporting Issues</td>\n",
       "    </tr>\n",
       "    <tr>\n",
       "      <th>2</th>\n",
       "      <td>ACCT-370</td>\n",
       "      <td>ACCT</td>\n",
       "      <td>370</td>\n",
       "      <td>ACCT</td>\n",
       "      <td>10:00:00</td>\n",
       "      <td>MW</td>\n",
       "      <td>11:50:00</td>\n",
       "      <td>Hopkins, Merle, W</td>\n",
       "      <td>3.783354e+09</td>\n",
       "      <td>ACC303</td>\n",
       "      <td>...</td>\n",
       "      <td>NaN</td>\n",
       "      <td>NaN</td>\n",
       "      <td>NaN</td>\n",
       "      <td>NaN</td>\n",
       "      <td>NaN</td>\n",
       "      <td>NaN</td>\n",
       "      <td>14026</td>\n",
       "      <td>1</td>\n",
       "      <td>20153</td>\n",
       "      <td>External Financial Reporting Issues</td>\n",
       "    </tr>\n",
       "    <tr>\n",
       "      <th>3</th>\n",
       "      <td>ACCT-370</td>\n",
       "      <td>ACCT</td>\n",
       "      <td>370</td>\n",
       "      <td>ACCT</td>\n",
       "      <td>12:00:00</td>\n",
       "      <td>MW</td>\n",
       "      <td>13:50:00</td>\n",
       "      <td>Hopkins, Merle, W</td>\n",
       "      <td>3.783354e+09</td>\n",
       "      <td>ACC303</td>\n",
       "      <td>...</td>\n",
       "      <td>NaN</td>\n",
       "      <td>NaN</td>\n",
       "      <td>NaN</td>\n",
       "      <td>NaN</td>\n",
       "      <td>NaN</td>\n",
       "      <td>NaN</td>\n",
       "      <td>14027</td>\n",
       "      <td>1</td>\n",
       "      <td>20153</td>\n",
       "      <td>External Financial Reporting Issues</td>\n",
       "    </tr>\n",
       "    <tr>\n",
       "      <th>4</th>\n",
       "      <td>ACCT-371</td>\n",
       "      <td>ACCT</td>\n",
       "      <td>371</td>\n",
       "      <td>ACCT</td>\n",
       "      <td>10:00:00</td>\n",
       "      <td>F</td>\n",
       "      <td>11:50:00</td>\n",
       "      <td>NaN</td>\n",
       "      <td>NaN</td>\n",
       "      <td>SLH200</td>\n",
       "      <td>...</td>\n",
       "      <td>NaN</td>\n",
       "      <td>NaN</td>\n",
       "      <td>NaN</td>\n",
       "      <td>NaN</td>\n",
       "      <td>NaN</td>\n",
       "      <td>NaN</td>\n",
       "      <td>14044</td>\n",
       "      <td>1</td>\n",
       "      <td>20153</td>\n",
       "      <td>Introduction to Accounting Systems</td>\n",
       "    </tr>\n",
       "  </tbody>\n",
       "</table>\n",
       "<p>5 rows × 26 columns</p>\n",
       "</div>"
      ],
      "text/plain": [
       "     Course Course Prefix Course Suffix Department First Begin Time  \\\n",
       "0  ACCT-370          ACCT           370       ACCT         10:00:00   \n",
       "1  ACCT-370          ACCT           370       ACCT         08:00:00   \n",
       "2  ACCT-370          ACCT           370       ACCT         10:00:00   \n",
       "3  ACCT-370          ACCT           370       ACCT         12:00:00   \n",
       "4  ACCT-371          ACCT           371       ACCT         10:00:00   \n",
       "\n",
       "  First Days First End Time   First Instructor  First Instructor UID  \\\n",
       "0          F       11:50:00  Hopkins, Merle, W          3.783354e+09   \n",
       "1         MW       09:50:00  Hopkins, Merle, W          3.783354e+09   \n",
       "2         MW       11:50:00  Hopkins, Merle, W          3.783354e+09   \n",
       "3         MW       13:50:00  Hopkins, Merle, W          3.783354e+09   \n",
       "4          F       11:50:00                NaN                   NaN   \n",
       "\n",
       "  First Room                 ...                  Second Begin Time  \\\n",
       "0     SLH200                 ...                                NaN   \n",
       "1     ACC303                 ...                                NaN   \n",
       "2     ACC303                 ...                                NaN   \n",
       "3     ACC303                 ...                                NaN   \n",
       "4     SLH200                 ...                                NaN   \n",
       "\n",
       "   Second Days  Second End Time Second Instructor  Second Instructor UID  \\\n",
       "0          NaN              NaN               NaN                    NaN   \n",
       "1          NaN              NaN               NaN                    NaN   \n",
       "2          NaN              NaN               NaN                    NaN   \n",
       "3          NaN              NaN               NaN                    NaN   \n",
       "4          NaN              NaN               NaN                    NaN   \n",
       "\n",
       "   Second Room Section Session   Term                                Title  \n",
       "0          NaN   14029       1  20153  External Financial Reporting Issues  \n",
       "1          NaN   14025       1  20153  External Financial Reporting Issues  \n",
       "2          NaN   14026       1  20153  External Financial Reporting Issues  \n",
       "3          NaN   14027       1  20153  External Financial Reporting Issues  \n",
       "4          NaN   14044       1  20153   Introduction to Accounting Systems  \n",
       "\n",
       "[5 rows x 26 columns]"
      ]
     },
     "execution_count": 37,
     "metadata": {},
     "output_type": "execute_result"
    }
   ],
   "source": [
    "enrollment.head()"
   ]
  },
  {
   "cell_type": "code",
   "execution_count": 38,
   "metadata": {},
   "outputs": [
    {
     "data": {
      "text/plain": [
       "['Course',\n",
       " 'Course Prefix',\n",
       " 'Course Suffix',\n",
       " 'Department',\n",
       " 'First Begin Time',\n",
       " 'First Days',\n",
       " 'First End Time',\n",
       " 'First Instructor',\n",
       " 'First Instructor UID',\n",
       " 'First Room',\n",
       " 'Link',\n",
       " 'Max Units',\n",
       " 'Min Units',\n",
       " 'Mode',\n",
       " 'Reg Count',\n",
       " 'Seats',\n",
       " 'Second Begin Time',\n",
       " 'Second Days',\n",
       " 'Second End Time',\n",
       " 'Second Instructor',\n",
       " 'Second Instructor UID',\n",
       " 'Second Room',\n",
       " 'Section',\n",
       " 'Session',\n",
       " 'Term',\n",
       " 'Title']"
      ]
     },
     "execution_count": 38,
     "metadata": {},
     "output_type": "execute_result"
    }
   ],
   "source": [
    "list(enrollment)"
   ]
  },
  {
   "cell_type": "code",
   "execution_count": 39,
   "metadata": {},
   "outputs": [
    {
     "data": {
      "text/plain": [
       "38.793032080027594"
      ]
     },
     "execution_count": 39,
     "metadata": {},
     "output_type": "execute_result"
    }
   ],
   "source": [
    "enrollment[\"Reg Count\"].mean()"
   ]
  },
  {
   "cell_type": "code",
   "execution_count": 40,
   "metadata": {},
   "outputs": [
    {
     "data": {
      "text/plain": [
       "46.45843394273888"
      ]
     },
     "execution_count": 40,
     "metadata": {},
     "output_type": "execute_result"
    }
   ],
   "source": [
    "enrollment[\"Seats\"].mean()"
   ]
  },
  {
   "cell_type": "code",
   "execution_count": 41,
   "metadata": {},
   "outputs": [
    {
     "data": {
      "image/png": "[encoded data removed]",
      "text/plain": [
       "<matplotlib.figure.Figure at 0x1de53332438>"
      ]
     },
     "metadata": {},
     "output_type": "display_data"
    }
   ],
   "source": [
    "plt.hist(enrollment[\"Reg Count\"],bins=50)\n",
    "plt.show()"
   ]
  },
  {
   "cell_type": "code",
   "execution_count": 42,
   "metadata": {
    "collapsed": true
   },
   "outputs": [],
   "source": [
    "ratio_seat_department=pd.DataFrame(enrollment.groupby([\"Department\"])[\"Seats\"].mean())"
   ]
  },
  {
   "cell_type": "code",
   "execution_count": 43,
   "metadata": {},
   "outputs": [
    {
     "data": {
      "text/html": [
       "<div>\n",
       "<style>\n",
       "    .dataframe thead tr:only-child th {\n",
       "        text-align: right;\n",
       "    }\n",
       "\n",
       "    .dataframe thead th {\n",
       "        text-align: left;\n",
       "    }\n",
       "\n",
       "    .dataframe tbody tr th {\n",
       "        vertical-align: top;\n",
       "    }\n",
       "</style>\n",
       "<table border=\"1\" class=\"dataframe\">\n",
       "  <thead>\n",
       "    <tr style=\"text-align: right;\">\n",
       "      <th></th>\n",
       "      <th>Seats</th>\n",
       "    </tr>\n",
       "    <tr>\n",
       "      <th>Department</th>\n",
       "      <th></th>\n",
       "    </tr>\n",
       "  </thead>\n",
       "  <tbody>\n",
       "    <tr>\n",
       "      <th>ACCT</th>\n",
       "      <td>49.090551</td>\n",
       "    </tr>\n",
       "    <tr>\n",
       "      <th>BAEP</th>\n",
       "      <td>47.491979</td>\n",
       "    </tr>\n",
       "    <tr>\n",
       "      <th>BUCO</th>\n",
       "      <td>26.570122</td>\n",
       "    </tr>\n",
       "    <tr>\n",
       "      <th>DSO</th>\n",
       "      <td>48.976293</td>\n",
       "    </tr>\n",
       "    <tr>\n",
       "      <th>EMBA Program</th>\n",
       "      <td>65.482143</td>\n",
       "    </tr>\n",
       "    <tr>\n",
       "      <th>FBE</th>\n",
       "      <td>58.591260</td>\n",
       "    </tr>\n",
       "    <tr>\n",
       "      <th>FIM Program</th>\n",
       "      <td>35.500000</td>\n",
       "    </tr>\n",
       "    <tr>\n",
       "      <th>FT MBA Core</th>\n",
       "      <td>75.000000</td>\n",
       "    </tr>\n",
       "    <tr>\n",
       "      <th>FT MBA Program</th>\n",
       "      <td>56.041667</td>\n",
       "    </tr>\n",
       "    <tr>\n",
       "      <th>G Programs</th>\n",
       "      <td>19.750000</td>\n",
       "    </tr>\n",
       "    <tr>\n",
       "      <th>GEMBA Program</th>\n",
       "      <td>37.647059</td>\n",
       "    </tr>\n",
       "    <tr>\n",
       "      <th>IBEAR Program</th>\n",
       "      <td>55.000000</td>\n",
       "    </tr>\n",
       "    <tr>\n",
       "      <th>MBV Program</th>\n",
       "      <td>60.666667</td>\n",
       "    </tr>\n",
       "    <tr>\n",
       "      <th>MKT</th>\n",
       "      <td>50.238267</td>\n",
       "    </tr>\n",
       "    <tr>\n",
       "      <th>MMLIS Core</th>\n",
       "      <td>28.513514</td>\n",
       "    </tr>\n",
       "    <tr>\n",
       "      <th>MMM Program</th>\n",
       "      <td>31.666667</td>\n",
       "    </tr>\n",
       "    <tr>\n",
       "      <th>MOR</th>\n",
       "      <td>47.053435</td>\n",
       "    </tr>\n",
       "    <tr>\n",
       "      <th>OMBA Program</th>\n",
       "      <td>24.952381</td>\n",
       "    </tr>\n",
       "    <tr>\n",
       "      <th>PM MBA Program</th>\n",
       "      <td>69.545455</td>\n",
       "    </tr>\n",
       "    <tr>\n",
       "      <th>UG Programs</th>\n",
       "      <td>39.972973</td>\n",
       "    </tr>\n",
       "  </tbody>\n",
       "</table>\n",
       "</div>"
      ],
      "text/plain": [
       "                    Seats\n",
       "Department               \n",
       "ACCT            49.090551\n",
       "BAEP            47.491979\n",
       "BUCO            26.570122\n",
       "DSO             48.976293\n",
       "EMBA Program    65.482143\n",
       "FBE             58.591260\n",
       "FIM Program     35.500000\n",
       "FT MBA Core     75.000000\n",
       "FT MBA Program  56.041667\n",
       "G Programs      19.750000\n",
       "GEMBA Program   37.647059\n",
       "IBEAR Program   55.000000\n",
       "MBV Program     60.666667\n",
       "MKT             50.238267\n",
       "MMLIS Core      28.513514\n",
       "MMM Program     31.666667\n",
       "MOR             47.053435\n",
       "OMBA Program    24.952381\n",
       "PM MBA Program  69.545455\n",
       "UG Programs     39.972973"
      ]
     },
     "execution_count": 43,
     "metadata": {},
     "output_type": "execute_result"
    }
   ],
   "source": [
    "ratio_seat_department"
   ]
  },
  {
   "cell_type": "code",
   "execution_count": 44,
   "metadata": {
    "collapsed": true
   },
   "outputs": [],
   "source": [
    "ratio_reg_department=pd.DataFrame(enrollment.groupby([\"Department\"])[\"Reg Count\"].mean())"
   ]
  },
  {
   "cell_type": "code",
   "execution_count": 45,
   "metadata": {},
   "outputs": [
    {
     "data": {
      "text/plain": [
       "(20, 1)"
      ]
     },
     "execution_count": 45,
     "metadata": {},
     "output_type": "execute_result"
    }
   ],
   "source": [
    "ratio_reg_department.shape"
   ]
  },
  {
   "cell_type": "code",
   "execution_count": 46,
   "metadata": {
    "collapsed": true
   },
   "outputs": [],
   "source": [
    "\n",
    "def seperate1(ratio):\n",
    "    reg_count_department=[]\n",
    "    department_name=[]\n",
    "    for i in range(len(ratio)):\n",
    "        st=str(ratio.iloc[i,:]).split()\n",
    "        reg_count_department.append(float(st[2]))\n",
    "        st2=\"\"\n",
    "        for j in range(3):\n",
    "            if ((st[j+4]!=\"dtype:\") & (st[j+4]!=\"float64\")):\n",
    "                st2=st2+\" \"+st[j+4]\n",
    "        st2=st2.replace(\",\",\"\")\n",
    "        department_name.append(st2)\n",
    "    return reg_count_department,department_name\n",
    "    \n",
    "\n"
   ]
  },
  {
   "cell_type": "code",
   "execution_count": 47,
   "metadata": {},
   "outputs": [
    {
     "name": "stdout",
     "output_type": "stream",
     "text": [
      "[39.476378, 37.786096, 24.527439, 42.077586, 57.714286, 48.650386, 35.0, 70.333333, 55.125, 8.807692, 29.117647, 53.0, 43.166667, 43.693141, 11.121622, 21.0, 41.262087, 20.428571, 55.272727, 28.851351]\n",
      "[' ACCT', ' BAEP', ' BUCO', ' DSO', ' EMBA Program', ' FBE', ' FIM Program', ' FT MBA Core', ' FT MBA Program', ' G Programs', ' GEMBA Program', ' IBEAR Program', ' MBV Program', ' MKT', ' MMLIS Core', ' MMM Program', ' MOR', ' OMBA Program', ' PM MBA Program', ' UG Programs']\n"
     ]
    }
   ],
   "source": [
    "reg_count_department,department_name=seperate1(ratio_reg_department)\n",
    "print(reg_count_department)\n",
    "print(department_name)"
   ]
  },
  {
   "cell_type": "code",
   "execution_count": 48,
   "metadata": {
    "collapsed": true
   },
   "outputs": [],
   "source": [
    "\n",
    "def seperate2(ratio):\n",
    "    reg_count_department=[]\n",
    "    department_name=[]\n",
    "    for i in range(len(ratio)):\n",
    "        st=str(ratio.iloc[i,:]).split()\n",
    "        reg_count_department.append(float(st[1]))\n",
    "        st2=\"\"\n",
    "        for j in range(3):\n",
    "            if ((st[j+3]!=\"dtype:\") & (st[j+3]!=\"float64\")):\n",
    "                st2=st2+\" \"+st[j+3]\n",
    "        st2=st2.replace(\",\",\"\")\n",
    "        department_name.append(st2)\n",
    "    return reg_count_department,department_name\n",
    "    \n",
    "\n",
    "\n"
   ]
  },
  {
   "cell_type": "code",
   "execution_count": 49,
   "metadata": {},
   "outputs": [
    {
     "name": "stdout",
     "output_type": "stream",
     "text": [
      "[49.090551, 47.491979, 26.570122, 48.976293, 65.482143, 58.59126, 35.5, 75.0, 56.041667, 19.75, 37.647059, 55.0, 60.666667, 50.238267, 28.513514, 31.666667, 47.053435, 24.952381, 69.545455, 39.972973]\n",
      "[' ACCT', ' BAEP', ' BUCO', ' DSO', ' EMBA Program', ' FBE', ' FIM Program', ' FT MBA Core', ' FT MBA Program', ' G Programs', ' GEMBA Program', ' IBEAR Program', ' MBV Program', ' MKT', ' MMLIS Core', ' MMM Program', ' MOR', ' OMBA Program', ' PM MBA Program', ' UG Programs']\n"
     ]
    }
   ],
   "source": [
    "seat_count_department,department_name=seperate2(ratio_seat_department)\n",
    "print(seat_count_department)\n",
    "print(department_name)"
   ]
  },
  {
   "cell_type": "code",
   "execution_count": 50,
   "metadata": {},
   "outputs": [
    {
     "data": {
      "text/plain": [
       "[49.090551,\n",
       " 47.491979,\n",
       " 26.570122,\n",
       " 48.976293,\n",
       " 65.482143,\n",
       " 58.59126,\n",
       " 35.5,\n",
       " 75.0,\n",
       " 56.041667,\n",
       " 19.75,\n",
       " 37.647059,\n",
       " 55.0,\n",
       " 60.666667,\n",
       " 50.238267,\n",
       " 28.513514,\n",
       " 31.666667,\n",
       " 47.053435,\n",
       " 24.952381,\n",
       " 69.545455,\n",
       " 39.972973]"
      ]
     },
     "execution_count": 50,
     "metadata": {},
     "output_type": "execute_result"
    }
   ],
   "source": [
    "seat_count_department"
   ]
  },
  {
   "cell_type": "code",
   "execution_count": 51,
   "metadata": {},
   "outputs": [
    {
     "data": {
      "text/plain": [
       "[' ACCT',\n",
       " ' BAEP',\n",
       " ' BUCO',\n",
       " ' DSO',\n",
       " ' EMBA Program',\n",
       " ' FBE',\n",
       " ' FIM Program',\n",
       " ' FT MBA Core',\n",
       " ' FT MBA Program',\n",
       " ' G Programs',\n",
       " ' GEMBA Program',\n",
       " ' IBEAR Program',\n",
       " ' MBV Program',\n",
       " ' MKT',\n",
       " ' MMLIS Core',\n",
       " ' MMM Program',\n",
       " ' MOR',\n",
       " ' OMBA Program',\n",
       " ' PM MBA Program',\n",
       " ' UG Programs']"
      ]
     },
     "execution_count": 51,
     "metadata": {},
     "output_type": "execute_result"
    }
   ],
   "source": [
    "department_name"
   ]
  },
  {
   "cell_type": "code",
   "execution_count": 52,
   "metadata": {},
   "outputs": [
    {
     "data": {
      "text/plain": [
       "38.793032080027594"
      ]
     },
     "execution_count": 52,
     "metadata": {},
     "output_type": "execute_result"
    }
   ],
   "source": [
    "marshall_reg_mean=enrollment[\"Reg Count\"].mean()\n",
    "marshall_reg_mean"
   ]
  },
  {
   "cell_type": "code",
   "execution_count": 53,
   "metadata": {},
   "outputs": [
    {
     "data": {
      "text/plain": [
       "46.45843394273888"
      ]
     },
     "execution_count": 53,
     "metadata": {},
     "output_type": "execute_result"
    }
   ],
   "source": [
    "marshall_seat_mean=enrollment[\"Seats\"].mean()\n",
    "marshall_seat_mean"
   ]
  },
  {
   "cell_type": "code",
   "execution_count": 57,
   "metadata": {},
   "outputs": [
    {
     "ename": "ValueError",
     "evalue": "x and y must have same first dimension, but have shapes (20,) and (1,)",
     "output_type": "error",
     "traceback": [
      "\u001b[1;31m---------------------------------------------------------------------------\u001b[0m",
      "\u001b[1;31mValueError\u001b[0m                                Traceback (most recent call last)",
      "\u001b[1;32m<ipython-input-57-fd06fe11d40b>\u001b[0m in \u001b[0;36m<module>\u001b[1;34m()\u001b[0m\n\u001b[0;32m      1\u001b[0m \u001b[0mplt\u001b[0m\u001b[1;33m.\u001b[0m\u001b[0mbar\u001b[0m\u001b[1;33m(\u001b[0m\u001b[0mdepartment_name\u001b[0m\u001b[1;33m,\u001b[0m\u001b[0mreg_count_department\u001b[0m\u001b[1;33m,\u001b[0m\u001b[0malign\u001b[0m\u001b[1;33m=\u001b[0m\u001b[1;34m'center'\u001b[0m\u001b[1;33m,\u001b[0m \u001b[0malpha\u001b[0m\u001b[1;33m=\u001b[0m\u001b[1;36m0.5\u001b[0m\u001b[1;33m)\u001b[0m\u001b[1;33m\u001b[0m\u001b[0m\n\u001b[1;32m----> 2\u001b[1;33m \u001b[0mplt\u001b[0m\u001b[1;33m.\u001b[0m\u001b[0mplot\u001b[0m\u001b[1;33m(\u001b[0m\u001b[0mdepartment_name\u001b[0m\u001b[1;33m,\u001b[0m\u001b[0mmarshall_reg_mean\u001b[0m\u001b[1;33m)\u001b[0m\u001b[1;33m\u001b[0m\u001b[0m\n\u001b[0m\u001b[0;32m      3\u001b[0m \u001b[0mplt\u001b[0m\u001b[1;33m.\u001b[0m\u001b[0mshow\u001b[0m\u001b[1;33m(\u001b[0m\u001b[1;33m)\u001b[0m\u001b[1;33m\u001b[0m\u001b[0m\n",
      "\u001b[1;32mC:\\Anaconda3\\lib\\site-packages\\matplotlib\\pyplot.py\u001b[0m in \u001b[0;36mplot\u001b[1;34m(*args, **kwargs)\u001b[0m\n\u001b[0;32m   3238\u001b[0m                       mplDeprecation)\n\u001b[0;32m   3239\u001b[0m     \u001b[1;32mtry\u001b[0m\u001b[1;33m:\u001b[0m\u001b[1;33m\u001b[0m\u001b[0m\n\u001b[1;32m-> 3240\u001b[1;33m         \u001b[0mret\u001b[0m \u001b[1;33m=\u001b[0m \u001b[0max\u001b[0m\u001b[1;33m.\u001b[0m\u001b[0mplot\u001b[0m\u001b[1;33m(\u001b[0m\u001b[1;33m*\u001b[0m\u001b[0margs\u001b[0m\u001b[1;33m,\u001b[0m \u001b[1;33m**\u001b[0m\u001b[0mkwargs\u001b[0m\u001b[1;33m)\u001b[0m\u001b[1;33m\u001b[0m\u001b[0m\n\u001b[0m\u001b[0;32m   3241\u001b[0m     \u001b[1;32mfinally\u001b[0m\u001b[1;33m:\u001b[0m\u001b[1;33m\u001b[0m\u001b[0m\n\u001b[0;32m   3242\u001b[0m         \u001b[0max\u001b[0m\u001b[1;33m.\u001b[0m\u001b[0m_hold\u001b[0m \u001b[1;33m=\u001b[0m \u001b[0mwashold\u001b[0m\u001b[1;33m\u001b[0m\u001b[0m\n",
      "\u001b[1;32mC:\\Anaconda3\\lib\\site-packages\\matplotlib\\__init__.py\u001b[0m in \u001b[0;36minner\u001b[1;34m(ax, *args, **kwargs)\u001b[0m\n\u001b[0;32m   1708\u001b[0m                     warnings.warn(msg % (label_namer, func.__name__),\n\u001b[0;32m   1709\u001b[0m                                   RuntimeWarning, stacklevel=2)\n\u001b[1;32m-> 1710\u001b[1;33m             \u001b[1;32mreturn\u001b[0m \u001b[0mfunc\u001b[0m\u001b[1;33m(\u001b[0m\u001b[0max\u001b[0m\u001b[1;33m,\u001b[0m \u001b[1;33m*\u001b[0m\u001b[0margs\u001b[0m\u001b[1;33m,\u001b[0m \u001b[1;33m**\u001b[0m\u001b[0mkwargs\u001b[0m\u001b[1;33m)\u001b[0m\u001b[1;33m\u001b[0m\u001b[0m\n\u001b[0m\u001b[0;32m   1711\u001b[0m         \u001b[0mpre_doc\u001b[0m \u001b[1;33m=\u001b[0m \u001b[0minner\u001b[0m\u001b[1;33m.\u001b[0m\u001b[0m__doc__\u001b[0m\u001b[1;33m\u001b[0m\u001b[0m\n\u001b[0;32m   1712\u001b[0m         \u001b[1;32mif\u001b[0m \u001b[0mpre_doc\u001b[0m \u001b[1;32mis\u001b[0m \u001b[1;32mNone\u001b[0m\u001b[1;33m:\u001b[0m\u001b[1;33m\u001b[0m\u001b[0m\n",
      "\u001b[1;32mC:\\Anaconda3\\lib\\site-packages\\matplotlib\\axes\\_axes.py\u001b[0m in \u001b[0;36mplot\u001b[1;34m(self, *args, **kwargs)\u001b[0m\n\u001b[0;32m   1435\u001b[0m         \u001b[0mkwargs\u001b[0m \u001b[1;33m=\u001b[0m \u001b[0mcbook\u001b[0m\u001b[1;33m.\u001b[0m\u001b[0mnormalize_kwargs\u001b[0m\u001b[1;33m(\u001b[0m\u001b[0mkwargs\u001b[0m\u001b[1;33m,\u001b[0m \u001b[0m_alias_map\u001b[0m\u001b[1;33m)\u001b[0m\u001b[1;33m\u001b[0m\u001b[0m\n\u001b[0;32m   1436\u001b[0m \u001b[1;33m\u001b[0m\u001b[0m\n\u001b[1;32m-> 1437\u001b[1;33m         \u001b[1;32mfor\u001b[0m \u001b[0mline\u001b[0m \u001b[1;32min\u001b[0m \u001b[0mself\u001b[0m\u001b[1;33m.\u001b[0m\u001b[0m_get_lines\u001b[0m\u001b[1;33m(\u001b[0m\u001b[1;33m*\u001b[0m\u001b[0margs\u001b[0m\u001b[1;33m,\u001b[0m \u001b[1;33m**\u001b[0m\u001b[0mkwargs\u001b[0m\u001b[1;33m)\u001b[0m\u001b[1;33m:\u001b[0m\u001b[1;33m\u001b[0m\u001b[0m\n\u001b[0m\u001b[0;32m   1438\u001b[0m             \u001b[0mself\u001b[0m\u001b[1;33m.\u001b[0m\u001b[0madd_line\u001b[0m\u001b[1;33m(\u001b[0m\u001b[0mline\u001b[0m\u001b[1;33m)\u001b[0m\u001b[1;33m\u001b[0m\u001b[0m\n\u001b[0;32m   1439\u001b[0m             \u001b[0mlines\u001b[0m\u001b[1;33m.\u001b[0m\u001b[0mappend\u001b[0m\u001b[1;33m(\u001b[0m\u001b[0mline\u001b[0m\u001b[1;33m)\u001b[0m\u001b[1;33m\u001b[0m\u001b[0m\n",
      "\u001b[1;32mC:\\Anaconda3\\lib\\site-packages\\matplotlib\\axes\\_base.py\u001b[0m in \u001b[0;36m_grab_next_args\u001b[1;34m(self, *args, **kwargs)\u001b[0m\n\u001b[0;32m    402\u001b[0m                 \u001b[0mthis\u001b[0m \u001b[1;33m+=\u001b[0m \u001b[0margs\u001b[0m\u001b[1;33m[\u001b[0m\u001b[1;36m0\u001b[0m\u001b[1;33m]\u001b[0m\u001b[1;33m,\u001b[0m\u001b[1;33m\u001b[0m\u001b[0m\n\u001b[0;32m    403\u001b[0m                 \u001b[0margs\u001b[0m \u001b[1;33m=\u001b[0m \u001b[0margs\u001b[0m\u001b[1;33m[\u001b[0m\u001b[1;36m1\u001b[0m\u001b[1;33m:\u001b[0m\u001b[1;33m]\u001b[0m\u001b[1;33m\u001b[0m\u001b[0m\n\u001b[1;32m--> 404\u001b[1;33m             \u001b[1;32mfor\u001b[0m \u001b[0mseg\u001b[0m \u001b[1;32min\u001b[0m \u001b[0mself\u001b[0m\u001b[1;33m.\u001b[0m\u001b[0m_plot_args\u001b[0m\u001b[1;33m(\u001b[0m\u001b[0mthis\u001b[0m\u001b[1;33m,\u001b[0m \u001b[0mkwargs\u001b[0m\u001b[1;33m)\u001b[0m\u001b[1;33m:\u001b[0m\u001b[1;33m\u001b[0m\u001b[0m\n\u001b[0m\u001b[0;32m    405\u001b[0m                 \u001b[1;32myield\u001b[0m \u001b[0mseg\u001b[0m\u001b[1;33m\u001b[0m\u001b[0m\n\u001b[0;32m    406\u001b[0m \u001b[1;33m\u001b[0m\u001b[0m\n",
      "\u001b[1;32mC:\\Anaconda3\\lib\\site-packages\\matplotlib\\axes\\_base.py\u001b[0m in \u001b[0;36m_plot_args\u001b[1;34m(self, tup, kwargs)\u001b[0m\n\u001b[0;32m    382\u001b[0m             \u001b[0mx\u001b[0m\u001b[1;33m,\u001b[0m \u001b[0my\u001b[0m \u001b[1;33m=\u001b[0m \u001b[0mindex_of\u001b[0m\u001b[1;33m(\u001b[0m\u001b[0mtup\u001b[0m\u001b[1;33m[\u001b[0m\u001b[1;33m-\u001b[0m\u001b[1;36m1\u001b[0m\u001b[1;33m]\u001b[0m\u001b[1;33m)\u001b[0m\u001b[1;33m\u001b[0m\u001b[0m\n\u001b[0;32m    383\u001b[0m \u001b[1;33m\u001b[0m\u001b[0m\n\u001b[1;32m--> 384\u001b[1;33m         \u001b[0mx\u001b[0m\u001b[1;33m,\u001b[0m \u001b[0my\u001b[0m \u001b[1;33m=\u001b[0m \u001b[0mself\u001b[0m\u001b[1;33m.\u001b[0m\u001b[0m_xy_from_xy\u001b[0m\u001b[1;33m(\u001b[0m\u001b[0mx\u001b[0m\u001b[1;33m,\u001b[0m \u001b[0my\u001b[0m\u001b[1;33m)\u001b[0m\u001b[1;33m\u001b[0m\u001b[0m\n\u001b[0m\u001b[0;32m    385\u001b[0m \u001b[1;33m\u001b[0m\u001b[0m\n\u001b[0;32m    386\u001b[0m         \u001b[1;32mif\u001b[0m \u001b[0mself\u001b[0m\u001b[1;33m.\u001b[0m\u001b[0mcommand\u001b[0m \u001b[1;33m==\u001b[0m \u001b[1;34m'plot'\u001b[0m\u001b[1;33m:\u001b[0m\u001b[1;33m\u001b[0m\u001b[0m\n",
      "\u001b[1;32mC:\\Anaconda3\\lib\\site-packages\\matplotlib\\axes\\_base.py\u001b[0m in \u001b[0;36m_xy_from_xy\u001b[1;34m(self, x, y)\u001b[0m\n\u001b[0;32m    241\u001b[0m         \u001b[1;32mif\u001b[0m \u001b[0mx\u001b[0m\u001b[1;33m.\u001b[0m\u001b[0mshape\u001b[0m\u001b[1;33m[\u001b[0m\u001b[1;36m0\u001b[0m\u001b[1;33m]\u001b[0m \u001b[1;33m!=\u001b[0m \u001b[0my\u001b[0m\u001b[1;33m.\u001b[0m\u001b[0mshape\u001b[0m\u001b[1;33m[\u001b[0m\u001b[1;36m0\u001b[0m\u001b[1;33m]\u001b[0m\u001b[1;33m:\u001b[0m\u001b[1;33m\u001b[0m\u001b[0m\n\u001b[0;32m    242\u001b[0m             raise ValueError(\"x and y must have same first dimension, but \"\n\u001b[1;32m--> 243\u001b[1;33m                              \"have shapes {} and {}\".format(x.shape, y.shape))\n\u001b[0m\u001b[0;32m    244\u001b[0m         \u001b[1;32mif\u001b[0m \u001b[0mx\u001b[0m\u001b[1;33m.\u001b[0m\u001b[0mndim\u001b[0m \u001b[1;33m>\u001b[0m \u001b[1;36m2\u001b[0m \u001b[1;32mor\u001b[0m \u001b[0my\u001b[0m\u001b[1;33m.\u001b[0m\u001b[0mndim\u001b[0m \u001b[1;33m>\u001b[0m \u001b[1;36m2\u001b[0m\u001b[1;33m:\u001b[0m\u001b[1;33m\u001b[0m\u001b[0m\n\u001b[0;32m    245\u001b[0m             raise ValueError(\"x and y can be no greater than 2-D, but have \"\n",
      "\u001b[1;31mValueError\u001b[0m: x and y must have same first dimension, but have shapes (20,) and (1,)"
     ]
    }
   ],
   "source": [
    "plt.bar(department_name,reg_count_department,align='center', alpha=0.5)\n",
    "plt.plot(department_name,marshall_reg_mean)\n",
    "plt.show()"
   ]
  },
  {
   "cell_type": "code",
   "execution_count": 57,
   "metadata": {
    "collapsed": true
   },
   "outputs": [],
   "source": [
    "test={\"department_name\":department_name,\"reg_count_department\":reg_count_department,\"seat_count_department\":seat_count_department,\"marshall_reg_mean\":38.79303,\"marshall_seat_mean\":46.458433}"
   ]
  },
  {
   "cell_type": "code",
   "execution_count": 58,
   "metadata": {},
   "outputs": [
    {
     "name": "stdout",
     "output_type": "stream",
     "text": [
      "0     38.79303\n",
      "1     38.79303\n",
      "2     38.79303\n",
      "3     38.79303\n",
      "4     38.79303\n",
      "5     38.79303\n",
      "6     38.79303\n",
      "7     38.79303\n",
      "8     38.79303\n",
      "9     38.79303\n",
      "10    38.79303\n",
      "11    38.79303\n",
      "12    38.79303\n",
      "13    38.79303\n",
      "14    38.79303\n",
      "15    38.79303\n",
      "16    38.79303\n",
      "17    38.79303\n",
      "18    38.79303\n",
      "19    38.79303\n",
      "Name: marshall_reg_mean, dtype: float64\n"
     ]
    }
   ],
   "source": [
    "data=pd.DataFrame(test)\n",
    "print(data.loc[:,\"marshall_reg_mean\"])"
   ]
  },
  {
   "cell_type": "code",
   "execution_count": 59,
   "metadata": {},
   "outputs": [
    {
     "data": {
      "image/png": "[encoded data removed]",
      "text/plain": [
       "<matplotlib.figure.Figure at 0x118e74278>"
      ]
     },
     "metadata": {},
     "output_type": "display_data"
    },
    {
     "data": {
      "image/png": "[encoded data removed]",
      "text/plain": [
       "<matplotlib.figure.Figure at 0x1194ec4a8>"
      ]
     },
     "metadata": {},
     "output_type": "display_data"
    },
    {
     "data": {
      "image/png": "[encoded data removed]",
      "text/plain": [
       "<matplotlib.figure.Figure at 0x11947c7b8>"
      ]
     },
     "metadata": {},
     "output_type": "display_data"
    }
   ],
   "source": [
    "\n",
    "data.plot(x=\"department_name\",y=\"seat_count_department\",kind='bar')\n",
    "data.plot(x=\"department_name\",y=\"reg_count_department\",kind='bar')\n",
    "data.plot(x=\"department_name\",y=\"marshall_reg_mean\",kind=\"line\")\n",
    "plt.show()"
   ]
  },
  {
   "cell_type": "code",
   "execution_count": 62,
   "metadata": {
    "collapsed": true
   },
   "outputs": [],
   "source": [
    "data.to_csv(\"phase1.csv\")"
   ]
  },
  {
   "cell_type": "code",
   "execution_count": null,
   "metadata": {
    "collapsed": true
   },
   "outputs": [],
   "source": []
  }
 ],
 "metadata": {
  "kernelspec": {
   "display_name": "Python 3",
   "language": "python",
   "name": "python3"
  },
  "language_info": {
   "codemirror_mode": {
    "name": "ipython",
    "version": 3
   },
   "file_extension": ".py",
   "mimetype": "text/x-python",
   "name": "python",
   "nbconvert_exporter": "python",
   "pygments_lexer": "ipython3",
   "version": "3.6.3"
  }
 },
 "nbformat": 4,
 "nbformat_minor": 2
}
